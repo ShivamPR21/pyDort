{
 "cells": [
  {
   "cell_type": "code",
   "execution_count": 1,
   "id": "85c883a2",
   "metadata": {},
   "outputs": [],
   "source": [
    "%load_ext autoreload\n",
    "%autoreload 2"
   ]
  },
  {
   "cell_type": "code",
   "execution_count": 2,
   "id": "dd55be62",
   "metadata": {},
   "outputs": [],
   "source": [
    "from pyDort.tracking.data_pipe import ArgoverseTrackingInferenceDataset\n",
    "from matplotlib import pyplot as plt "
   ]
  },
  {
   "cell_type": "code",
   "execution_count": 3,
   "id": "0e6fb3d0",
   "metadata": {},
   "outputs": [],
   "source": [
    "dataset = ArgoverseTrackingInferenceDataset(\n",
    "    data_dir = '/home/shivampr21/Research/datasets/argoverse-tracking/train1/',\n",
    "    dets_dump_dir = '/home/shivampr21/Research/datasets/argoverse-tracking/test/argoverse_detections_2020/training/',\n",
    "    log_id = '',\n",
    "    lidar_points_thresh = 30,\n",
    "    image_size_threshold = 50,\n",
    "    n_img_view_aug = 7,\n",
    "    aug_transforms = None,\n",
    "    central_crop = True,\n",
    "    img_tr_ww = (0.7, 0.7),\n",
    "    discard_invalid_dfs = True,\n",
    "    img_reshape = (64, 64)\n",
    ")"
   ]
  },
  {
   "cell_type": "code",
   "execution_count": 4,
   "id": "fe934c1b",
   "metadata": {},
   "outputs": [
    {
     "name": "stdout",
     "output_type": "stream",
     "text": [
      "Number of logs: 20\n"
     ]
    }
   ],
   "source": [
    "n_logs = len(dataset.log_list)\n",
    "print(f'Number of logs: {n_logs}')"
   ]
  },
  {
   "cell_type": "code",
   "execution_count": 5,
   "id": "1f6c2d6f",
   "metadata": {},
   "outputs": [],
   "source": [
    "dataset.dataset_init(0)"
   ]
  },
  {
   "cell_type": "code",
   "execution_count": 6,
   "id": "f8e649bf",
   "metadata": {},
   "outputs": [],
   "source": [
    "info_frames = dataset[0]"
   ]
  },
  {
   "cell_type": "code",
   "execution_count": 7,
   "id": "b64d0892",
   "metadata": {},
   "outputs": [
    {
     "data": {
      "image/png": "[encoded data removed]",
      "text/plain": [
       "<Figure size 432x288 with 1 Axes>"
      ]
     },
     "metadata": {
      "needs_background": "light"
     },
     "output_type": "display_data"
    }
   ],
   "source": [
    "plt.imshow(info_frames[16].img_data[5].numpy().transpose(1, 2, 0))\n",
    "plt.show()"
   ]
  },
  {
   "cell_type": "code",
   "execution_count": 8,
   "id": "2a3778f2",
   "metadata": {},
   "outputs": [
    {
     "name": "stdout",
     "output_type": "stream",
     "text": [
      "Jupyter environment detected. Enabling Open3D WebVisualizer.\n",
      "[Open3D INFO] WebRTC GUI backend enabled.\n",
      "[Open3D INFO] WebRTCWindowSystem: HTTP handshake server disabled.\n"
     ]
    }
   ],
   "source": [
    "import open3d as o3d"
   ]
  },
  {
   "cell_type": "code",
   "execution_count": 15,
   "id": "1c1432b5",
   "metadata": {},
   "outputs": [
    {
     "ename": "KeyboardInterrupt",
     "evalue": "",
     "output_type": "error",
     "traceback": [
      "\u001b[0;31m---------------------------------------------------------------------------\u001b[0m",
      "\u001b[0;31mKeyboardInterrupt\u001b[0m                         Traceback (most recent call last)",
      "Input \u001b[0;32mIn [15]\u001b[0m, in \u001b[0;36m<cell line: 1>\u001b[0;34m()\u001b[0m\n\u001b[1;32m      6\u001b[0m pcd \u001b[38;5;241m=\u001b[39m o3d\u001b[38;5;241m.\u001b[39mgeometry\u001b[38;5;241m.\u001b[39mPointCloud()\n\u001b[1;32m      7\u001b[0m pcd\u001b[38;5;241m.\u001b[39mpoints \u001b[38;5;241m=\u001b[39m o3d\u001b[38;5;241m.\u001b[39mutility\u001b[38;5;241m.\u001b[39mVector3dVector(pts)\n\u001b[0;32m----> 8\u001b[0m \u001b[43mo3d\u001b[49m\u001b[38;5;241;43m.\u001b[39;49m\u001b[43mvisualization\u001b[49m\u001b[38;5;241;43m.\u001b[39;49m\u001b[43mdraw_geometries\u001b[49m\u001b[43m(\u001b[49m\u001b[43m[\u001b[49m\u001b[43mpcd\u001b[49m\u001b[43m]\u001b[49m\u001b[43m)\u001b[49m\n",
      "\u001b[0;31mKeyboardInterrupt\u001b[0m: "
     ]
    }
   ],
   "source": [
    "for i in range(len(dataset)):\n",
    "    info_frames = dataset[0]\n",
    "    for frame in info_frames:\n",
    "        if frame.object_type == \"PEDESTRIAN\":\n",
    "            pts = frame.lidar\n",
    "            pcd = o3d.geometry.PointCloud()\n",
    "            pcd.points = o3d.utility.Vector3dVector(pts)\n",
    "            o3d.visualization.draw_geometries([pcd])"
   ]
  },
  {
   "cell_type": "code",
   "execution_count": 46,
   "id": "e49d6c8a",
   "metadata": {},
   "outputs": [],
   "source": [
    "from pyDort.representation.point_cloud_models.pointcloud import PointCloudRepresentation"
   ]
  },
  {
   "cell_type": "code",
   "execution_count": 47,
   "id": "e20cb4a8",
   "metadata": {},
   "outputs": [],
   "source": [
    "rep = PointCloudRepresentation(model=\"dgcnn2048\", chunk_size=10)"
   ]
  },
  {
   "cell_type": "code",
   "execution_count": 48,
   "id": "4dcadade",
   "metadata": {},
   "outputs": [],
   "source": [
    "repr_ = rep(dataset[0])"
   ]
  },
  {
   "cell_type": "code",
   "execution_count": 49,
   "id": "68e96ad8",
   "metadata": {},
   "outputs": [
    {
     "data": {
      "text/plain": [
       "(19, 512)"
      ]
     },
     "execution_count": 49,
     "metadata": {},
     "output_type": "execute_result"
    }
   ],
   "source": [
    "repr_[0].shape"
   ]
  },
  {
   "cell_type": "code",
   "execution_count": null,
   "id": "2d352108",
   "metadata": {},
   "outputs": [],
   "source": [
    "from argoverse.utils.calibration import get_calibration_config, get_camera_extrinsic_matrix"
   ]
  },
  {
   "cell_type": "code",
   "execution_count": null,
   "id": "7c7382c0",
   "metadata": {},
   "outputs": [],
   "source": [
    "get_calibration_config(dataset.calib_data, 'ring_front_center')"
   ]
  },
  {
   "cell_type": "code",
   "execution_count": null,
   "id": "f4bc6848",
   "metadata": {},
   "outputs": [],
   "source": [
    "from argoverse.utils.camera_stats import CAMERA_LIST"
   ]
  },
  {
   "cell_type": "code",
   "execution_count": null,
   "id": "ebd97b85",
   "metadata": {},
   "outputs": [],
   "source": [
    "CAMERA_LIST"
   ]
  },
  {
   "cell_type": "code",
   "execution_count": null,
   "id": "da7387ec",
   "metadata": {},
   "outputs": [],
   "source": [
    "dataset.calib_data['ring_front_center'].calib_data['value']"
   ]
  },
  {
   "cell_type": "code",
   "execution_count": 1,
   "id": "24911ab8",
   "metadata": {},
   "outputs": [],
   "source": [
    "import numpy as np"
   ]
  },
  {
   "cell_type": "code",
   "execution_count": 6,
   "id": "72761989",
   "metadata": {},
   "outputs": [],
   "source": [
    "def dsc_data_association_costmatrix(dets : np.ndarray,\n",
    "                                    trks : np.ndarray) -> np.ndarray:\n",
    "        # dets : [M, n]\n",
    "        # trks : [N, n]\n",
    "        dets /= (np.linalg.norm(dets, axis=1, keepdims=True)+1e-10)\n",
    "        trks /= (np.linalg.norm(trks, axis=1, keepdims=True)+1e-10)\n",
    "\n",
    "        cost_matrix : np.ndarray = -dets.dot(trks.T) # [M, N] matrix\n",
    "        cost_matrix -= cost_matrix.min()\n",
    "        cost_matrix /= (cost_matrix.max()+1e-9)\n",
    "\n",
    "        return cost_matrix"
   ]
  },
  {
   "cell_type": "code",
   "execution_count": 9,
   "id": "e3592589",
   "metadata": {},
   "outputs": [],
   "source": [
    "dets = np.random.rand(10, 128)\n",
    "dets_ = dets\n",
    "trks = np.random.rand(20, 128)\n",
    "trks_ = trks"
   ]
  },
  {
   "cell_type": "code",
   "execution_count": 12,
   "id": "9b93acdb",
   "metadata": {},
   "outputs": [
    {
     "data": {
      "text/plain": [
       "array([[0.03448104, 0.09651217, 0.11751384, ..., 0.09820259, 0.04421617,\n",
       "        0.04633273],\n",
       "       [0.0490487 , 0.11220958, 0.07157902, ..., 0.02468071, 0.12126727,\n",
       "        0.12327038],\n",
       "       [0.05046629, 0.0920659 , 0.12161145, ..., 0.11090679, 0.02216982,\n",
       "        0.05526879],\n",
       "       ...,\n",
       "       [0.00899845, 0.05285323, 0.02322775, ..., 0.00984874, 0.06302188,\n",
       "        0.12061234],\n",
       "       [0.0872572 , 0.08506924, 0.11251184, ..., 0.13219115, 0.03225873,\n",
       "        0.02977503],\n",
       "       [0.00885421, 0.04206392, 0.11656784, ..., 0.16160398, 0.09996795,\n",
       "        0.0653161 ]])"
      ]
     },
     "execution_count": 12,
     "metadata": {},
     "output_type": "execute_result"
    }
   ],
   "source": [
    "dets"
   ]
  },
  {
   "cell_type": "code",
   "execution_count": 13,
   "id": "26f6bc5f",
   "metadata": {},
   "outputs": [],
   "source": [
    "csm = dsc_data_association_costmatrix(dets, trks)"
   ]
  },
  {
   "cell_type": "code",
   "execution_count": 14,
   "id": "a11e2d40",
   "metadata": {},
   "outputs": [
    {
     "data": {
      "text/plain": [
       "array([[0.03448104, 0.09651217, 0.11751384, ..., 0.09820259, 0.04421617,\n",
       "        0.04633273],\n",
       "       [0.0490487 , 0.11220958, 0.07157902, ..., 0.02468071, 0.12126727,\n",
       "        0.12327038],\n",
       "       [0.05046629, 0.0920659 , 0.12161145, ..., 0.11090679, 0.02216982,\n",
       "        0.05526879],\n",
       "       ...,\n",
       "       [0.00899845, 0.05285323, 0.02322775, ..., 0.00984874, 0.06302188,\n",
       "        0.12061234],\n",
       "       [0.0872572 , 0.08506924, 0.11251184, ..., 0.13219115, 0.03225873,\n",
       "        0.02977503],\n",
       "       [0.00885421, 0.04206392, 0.11656784, ..., 0.16160398, 0.09996795,\n",
       "        0.0653161 ]])"
      ]
     },
     "execution_count": 14,
     "metadata": {},
     "output_type": "execute_result"
    }
   ],
   "source": [
    "dets"
   ]
  },
  {
   "cell_type": "code",
   "execution_count": 15,
   "id": "8ae04446",
   "metadata": {},
   "outputs": [
    {
     "data": {
      "text/plain": [
       "array([[0.65676493, 0.20802001, 0.64046135, 0.4223321 , 0.39905759,\n",
       "        0.16964071, 0.66252346, 0.17792049, 0.73813953, 0.52984388,\n",
       "        0.19538827, 0.5842416 , 0.32691085, 0.68910098, 0.38429995,\n",
       "        0.39078952, 0.46882581, 0.7959899 , 0.28890676, 0.52612231],\n",
       "       [0.34223534, 0.25321572, 0.4709422 , 0.54341516, 0.55508369,\n",
       "        0.02831118, 0.23489351, 0.06816584, 0.31548412, 0.43268913,\n",
       "        0.14743961, 0.41188292, 0.47540388, 0.16719922, 0.19953727,\n",
       "        0.48153927, 0.37224419, 0.32286818, 0.25623549, 0.58968456],\n",
       "       [0.99999999, 0.60502488, 0.49177533, 0.7868505 , 0.47468519,\n",
       "        0.62278313, 0.55783523, 0.30451038, 0.61695119, 0.59899142,\n",
       "        0.52302807, 0.49937264, 0.11153858, 0.73029871, 0.47817038,\n",
       "        0.30301423, 0.49172011, 0.66677657, 0.49825803, 0.44305271],\n",
       "       [0.6276656 , 0.6242544 , 0.5465681 , 0.47415439, 0.48680897,\n",
       "        0.46778573, 0.2609023 , 0.32509184, 0.47282459, 0.44660785,\n",
       "        0.03526743, 0.67938055, 0.38109608, 0.4512855 , 0.16624225,\n",
       "        0.41089482, 0.        , 0.24385104, 0.30770547, 0.5555337 ],\n",
       "       [0.15101172, 0.27774396, 0.39372174, 0.54625885, 0.07572455,\n",
       "        0.43809011, 0.43889975, 0.35384057, 0.35409164, 0.41064006,\n",
       "        0.16317561, 0.49556823, 0.41635369, 0.74508653, 0.19762543,\n",
       "        0.25189183, 0.23613563, 0.65066442, 0.36454158, 0.42357104],\n",
       "       [0.56155118, 0.24313248, 0.58994708, 0.34508456, 0.41563369,\n",
       "        0.30760832, 0.29797575, 0.22807257, 0.47415858, 0.42088694,\n",
       "        0.2388065 , 0.49312097, 0.45708162, 0.27576923, 0.60843896,\n",
       "        0.48007995, 0.40845031, 0.64459029, 0.25682273, 0.7081382 ],\n",
       "       [0.46555267, 0.16075691, 0.56075766, 0.38867456, 0.48281178,\n",
       "        0.22120344, 0.60361266, 0.78644491, 0.47390134, 0.28954152,\n",
       "        0.70332671, 0.44827002, 0.65046804, 0.95329519, 0.22383416,\n",
       "        0.68351334, 0.80593325, 0.66709495, 0.47005672, 0.45935835],\n",
       "       [0.76238833, 0.14545505, 0.53414582, 0.71561788, 0.53992932,\n",
       "        0.43367955, 0.87698035, 0.79699819, 0.40304378, 0.11309869,\n",
       "        0.83813231, 0.55877254, 0.38258876, 0.9533187 , 0.80138696,\n",
       "        0.83929193, 0.53707627, 0.82429675, 0.61769515, 0.67063398],\n",
       "       [0.59552206, 0.32997629, 0.89655699, 0.39189656, 0.06476669,\n",
       "        0.10442892, 0.44809793, 0.28014601, 0.59775095, 0.1152345 ,\n",
       "        0.25420038, 0.3913602 , 0.27630185, 0.19873261, 0.3922563 ,\n",
       "        0.9789978 , 0.82786236, 0.95050785, 0.49216366, 0.42285037],\n",
       "       [0.23357479, 0.13422461, 0.29801545, 0.45987646, 0.46696056,\n",
       "        0.45557215, 0.68683775, 0.77125999, 0.67054605, 0.42880387,\n",
       "        0.29123002, 0.35767907, 0.3013498 , 0.37434247, 0.52791408,\n",
       "        0.37668581, 0.90291156, 0.70529154, 0.50579041, 0.23943459]])"
      ]
     },
     "execution_count": 15,
     "metadata": {},
     "output_type": "execute_result"
    }
   ],
   "source": []
  },
  {
   "cell_type": "code",
   "execution_count": 1,
   "id": "9ae0016e",
   "metadata": {},
   "outputs": [
    {
     "name": "stdout",
     "output_type": "stream",
     "text": [
      "0\n",
      "2\n",
      "4\n",
      "6\n",
      "8\n"
     ]
    }
   ],
   "source": [
    "for idx in range(0, 10, 2):\n",
    "    print(idx)"
   ]
  },
  {
   "cell_type": "code",
   "execution_count": null,
   "id": "dc306a46",
   "metadata": {},
   "outputs": [],
   "source": []
  }
 ],
 "metadata": {
  "kernelspec": {
   "display_name": "Python 3 (ipykernel)",
   "language": "python",
   "name": "python3"
  },
  "language_info": {
   "codemirror_mode": {
    "name": "ipython",
    "version": 3
   },
   "file_extension": ".py",
   "mimetype": "text/x-python",
   "name": "python",
   "nbconvert_exporter": "python",
   "pygments_lexer": "ipython3",
   "version": "3.10.4"
  }
 },
 "nbformat": 4,
 "nbformat_minor": 5
}
