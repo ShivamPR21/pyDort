{
 "cells": [
  {
   "cell_type": "code",
   "execution_count": null,
   "id": "85c883a2",
   "metadata": {},
   "outputs": [],
   "source": [
    "%load_ext autoreload\n",
    "%autoreload 2"
   ]
  },
  {
   "cell_type": "code",
   "execution_count": null,
   "id": "dd55be62",
   "metadata": {},
   "outputs": [],
   "source": [
    "from pyDort.tracking.data_pipe import ArgoverseTrackingInferenceDataset\n",
    "from matplotlib import pyplot as plt "
   ]
  },
  {
   "cell_type": "code",
   "execution_count": null,
   "id": "0e6fb3d0",
   "metadata": {},
   "outputs": [],
   "source": [
    "dataset = ArgoverseTrackingInferenceDataset(\n",
    "    data_dir = '/home/shivampr21/Research/datasets/argoverse-tracking/train1/',\n",
    "    dets_dump_dir = '/home/shivampr21/Research/datasets/argoverse-tracking/test/argoverse_detections_2020/training/',\n",
    "    log_id = '',\n",
    "    lidar_points_thresh = 30,\n",
    "    image_size_threshold = 50,\n",
    "    n_img_view_aug = 7,\n",
    "    aug_transforms = None,\n",
    "    central_crop = True,\n",
    "    img_tr_ww = (0.7, 0.7),\n",
    "    discard_invalid_dfs = True,\n",
    "    dataframe_augmentation = True,\n",
    "    img_reshape = (200, 200)\n",
    ")"
   ]
  },
  {
   "cell_type": "code",
   "execution_count": null,
   "id": "fe934c1b",
   "metadata": {},
   "outputs": [],
   "source": [
    "n_logs = len(dataset.log_list)\n",
    "print(f'Number of logs: {n_logs}')"
   ]
  },
  {
   "cell_type": "code",
   "execution_count": null,
   "id": "1f6c2d6f",
   "metadata": {},
   "outputs": [],
   "source": [
    "dataset.dataset_init(0)"
   ]
  },
  {
   "cell_type": "code",
   "execution_count": null,
   "id": "f8e649bf",
   "metadata": {},
   "outputs": [],
   "source": [
    "info_frames = dataset[0]"
   ]
  },
  {
   "cell_type": "code",
   "execution_count": null,
   "id": "b64d0892",
   "metadata": {},
   "outputs": [],
   "source": [
    "plt.imshow(info_frames[16].img_data[5].numpy().transpose(1, 2, 0))\n",
    "plt.show()"
   ]
  },
  {
   "cell_type": "code",
   "execution_count": null,
   "id": "1c1432b5",
   "metadata": {},
   "outputs": [],
   "source": [
    "from "
   ]
  },
  {
   "cell_type": "code",
   "execution_count": null,
   "id": "2d352108",
   "metadata": {},
   "outputs": [],
   "source": [
    "from argoverse.utils.calibration import get_calibration_config, get_camera_extrinsic_matrix"
   ]
  },
  {
   "cell_type": "code",
   "execution_count": null,
   "id": "7c7382c0",
   "metadata": {},
   "outputs": [],
   "source": [
    "get_calibration_config(dataset.calib_data, 'ring_front_center')"
   ]
  },
  {
   "cell_type": "code",
   "execution_count": null,
   "id": "f4bc6848",
   "metadata": {},
   "outputs": [],
   "source": [
    "from argoverse.utils.camera_stats import CAMERA_LIST"
   ]
  },
  {
   "cell_type": "code",
   "execution_count": null,
   "id": "ebd97b85",
   "metadata": {},
   "outputs": [],
   "source": [
    "CAMERA_LIST"
   ]
  },
  {
   "cell_type": "code",
   "execution_count": null,
   "id": "da7387ec",
   "metadata": {},
   "outputs": [],
   "source": [
    "dataset.calib_data['ring_front_center'].calib_data['value']"
   ]
  },
  {
   "cell_type": "code",
   "execution_count": null,
   "id": "24911ab8",
   "metadata": {},
   "outputs": [],
   "source": []
  }
 ],
 "metadata": {
  "kernelspec": {
   "display_name": "Python 3 (ipykernel)",
   "language": "python",
   "name": "python3"
  },
  "language_info": {
   "codemirror_mode": {
    "name": "ipython",
    "version": 3
   },
   "file_extension": ".py",
   "mimetype": "text/x-python",
   "name": "python",
   "nbconvert_exporter": "python",
   "pygments_lexer": "ipython3",
   "version": "3.10.4"
  }
 },
 "nbformat": 4,
 "nbformat_minor": 5
}
